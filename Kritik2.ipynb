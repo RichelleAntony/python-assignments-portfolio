{
 "cells": [
  {
   "cell_type": "code",
   "execution_count": 1,
   "id": "113eccac",
   "metadata": {},
   "outputs": [],
   "source": [
    "def f(x):\n",
    "    return math.exp(x) + math.log(x)\n",
    "\n",
    "def roots(f, a, b):\n",
    "\n",
    "    while abs(b-a) >= 10**-10:            # stop the loop when this isn't true anymore -> the length of the interval is <10**-10\n",
    "        M = (a+b)/2                  # has to be in the loop because you redefine every time through\n",
    "\n",
    "        if x<a or b>x: \n",
    "            print(\"roots outside of interval\")\n",
    "\n",
    "        elif a<x<M:\n",
    "            b=M\n",
    "    \n",
    "        elif M<x<b:\n",
    "            a=M\n",
    "            \n",
    "        if abs(b-a) < 10**-10:\n",
    "            print(x)            #x is the root were looking for, but I don't know how to define it? \n",
    "        "
   ]
  },
  {
   "cell_type": "code",
   "execution_count": 2,
   "id": "bac5170d",
   "metadata": {},
   "outputs": [
    {
     "ename": "NameError",
     "evalue": "name 'x' is not defined",
     "output_type": "error",
     "traceback": [
      "\u001b[0;31m---------------------------------------------------------------------------\u001b[0m",
      "\u001b[0;31mNameError\u001b[0m                                 Traceback (most recent call last)",
      "Cell \u001b[0;32mIn[2], line 1\u001b[0m\n\u001b[0;32m----> 1\u001b[0m \u001b[43mroots\u001b[49m\u001b[43m(\u001b[49m\u001b[43mf\u001b[49m\u001b[43m,\u001b[49m\u001b[43m \u001b[49m\u001b[38;5;241;43m0\u001b[39;49m\u001b[43m,\u001b[49m\u001b[43m \u001b[49m\u001b[38;5;241;43m1\u001b[39;49m\u001b[43m)\u001b[49m\n",
      "Cell \u001b[0;32mIn[1], line 9\u001b[0m, in \u001b[0;36mroots\u001b[0;34m(f, a, b)\u001b[0m\n\u001b[1;32m      6\u001b[0m \u001b[38;5;28;01mwhile\u001b[39;00m \u001b[38;5;28mabs\u001b[39m(b\u001b[38;5;241m-\u001b[39ma) \u001b[38;5;241m>\u001b[39m\u001b[38;5;241m=\u001b[39m \u001b[38;5;241m10\u001b[39m\u001b[38;5;241m*\u001b[39m\u001b[38;5;241m*\u001b[39m\u001b[38;5;241m-\u001b[39m\u001b[38;5;241m10\u001b[39m:            \u001b[38;5;66;03m# stop the loop when this isn't true anymore -> the length of the interval is <10**-10\u001b[39;00m\n\u001b[1;32m      7\u001b[0m     M \u001b[38;5;241m=\u001b[39m (a\u001b[38;5;241m+\u001b[39mb)\u001b[38;5;241m/\u001b[39m\u001b[38;5;241m2\u001b[39m                  \u001b[38;5;66;03m# has to be in the loop because you redefine every time through\u001b[39;00m\n\u001b[0;32m----> 9\u001b[0m     \u001b[38;5;28;01mif\u001b[39;00m \u001b[43mx\u001b[49m\u001b[38;5;241m<\u001b[39ma \u001b[38;5;129;01mor\u001b[39;00m b\u001b[38;5;241m>\u001b[39mx: \n\u001b[1;32m     10\u001b[0m         \u001b[38;5;28mprint\u001b[39m(\u001b[38;5;124m\"\u001b[39m\u001b[38;5;124mroots outside of interval\u001b[39m\u001b[38;5;124m\"\u001b[39m)\n\u001b[1;32m     12\u001b[0m     \u001b[38;5;28;01melif\u001b[39;00m a\u001b[38;5;241m<\u001b[39mx\u001b[38;5;241m<\u001b[39mM:\n",
      "\u001b[0;31mNameError\u001b[0m: name 'x' is not defined"
     ]
    }
   ],
   "source": [
    "roots(f, 0, 1)"
   ]
  },
  {
   "cell_type": "code",
   "execution_count": 13,
   "id": "a8d4a0d5",
   "metadata": {},
   "outputs": [],
   "source": [
    "import math\n",
    "\n",
    "def roots(f,a,b):\n",
    "    while abs(b-a) >= 10**-10:\n",
    "      \n",
    "        m=(a+b)/2\n",
    "        if f(a)*f(m)>0:\n",
    "            a=m\n",
    "            \n",
    "        else:\n",
    "            b=m\n",
    "    return m"
   ]
  },
  {
   "cell_type": "code",
   "execution_count": 14,
   "id": "662a60ff",
   "metadata": {},
   "outputs": [
    {
     "name": "stdout",
     "output_type": "stream",
     "text": [
      "0.2698741375426587\n"
     ]
    }
   ],
   "source": [
    "def f(x):\n",
    "    return math.exp(x)+math.log(x)\n",
    "\n",
    "print(roots(f,0.0001,1))"
   ]
  },
  {
   "cell_type": "code",
   "execution_count": 15,
   "id": "142c2548",
   "metadata": {},
   "outputs": [
    {
     "name": "stdout",
     "output_type": "stream",
     "text": [
      "0.8336061944573041\n"
     ]
    }
   ],
   "source": [
    "def f(x):\n",
    "    return math.atan(x) - x**2\n",
    "\n",
    "print(roots(f, 0.0001, 2))"
   ]
  },
  {
   "cell_type": "code",
   "execution_count": 16,
   "id": "843357d1",
   "metadata": {},
   "outputs": [
    {
     "name": "stdout",
     "output_type": "stream",
     "text": [
      "3.141592653642874\n"
     ]
    }
   ],
   "source": [
    "def f(x):\n",
    "    return math.sin(x) / math.log(x)\n",
    "\n",
    "print(roots(f, 3, 4))"
   ]
  },
  {
   "cell_type": "code",
   "execution_count": 17,
   "id": "e316e66c",
   "metadata": {},
   "outputs": [
    {
     "name": "stdout",
     "output_type": "stream",
     "text": [
      "6.999999999941792\n"
     ]
    }
   ],
   "source": [
    "def f(x):\n",
    "    return math.log(math.cos(x))\n",
    "\n",
    "print(roots(f, 5, 7))"
   ]
  },
  {
   "cell_type": "code",
   "execution_count": null,
   "id": "6aa3a05e",
   "metadata": {},
   "outputs": [],
   "source": []
  }
 ],
 "metadata": {
  "kernelspec": {
   "display_name": "Python 3 (ipykernel)",
   "language": "python",
   "name": "python3"
  },
  "language_info": {
   "codemirror_mode": {
    "name": "ipython",
    "version": 3
   },
   "file_extension": ".py",
   "mimetype": "text/x-python",
   "name": "python",
   "nbconvert_exporter": "python",
   "pygments_lexer": "ipython3",
   "version": "3.11.4"
  }
 },
 "nbformat": 4,
 "nbformat_minor": 5
}
