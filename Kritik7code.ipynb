{
 "cells": [
  {
   "cell_type": "code",
   "execution_count": 12,
   "id": "c99fabf5-ae00-48ba-ae4b-3f0223b82975",
   "metadata": {},
   "outputs": [
    {
     "name": "stdout",
     "output_type": "stream",
     "text": [
      "True. t0 is outside the critical region. Reject null hypothesis.\n",
      "The statistical evidence suggests that the new teaching technique is beneficial because t0 is positive, which suggests that the sample mean is greater than the population mean (µ > µ0).\n"
     ]
    }
   ],
   "source": [
    "# store list in data for scenario given\n",
    "data = [92.64,79.00,84.79,97.41,93.68,65.23,84.50,73.49,73.97,79.11]\n",
    "\n",
    "#probability density function of the t-distribution with nu degrees of freedom to be used within t-star function\n",
    "import math\n",
    "\n",
    "def t_distribution_pdf(x, nu):\n",
    "    return (math.gamma((nu + 1) / 2) / (math.sqrt(nu * math.pi) * math.gamma(nu / 2))) * \\\n",
    "           ((1 + (x ** 2) / nu) ** (- (nu + 1) / 2))\n",
    "\n",
    "#part a - write function using only standard arithmetic operations for mean and std dev\n",
    "def compute_mean_std(data):\n",
    "    n = len(data)\n",
    "    mean = sum(data) / n\n",
    "    variance = sum((x - mean) ** 2 for x in data) / (n - 1)\n",
    "    std_dev = variance ** 0.5\n",
    "    return mean, std_dev\n",
    "\n",
    "#part b - find t0 using previous function output\n",
    "def compute_t0(sample_mean, mu, std_dev, n):\n",
    "    t0 = (sample_mean - mu) / (std_dev / (n ** 0.5))\n",
    "    return t0\n",
    " \n",
    "#part c - find t*\n",
    "import numpy as np\n",
    "\n",
    "def find_t_star(prob, nu, x_start=0, x_end=20, num_points=10000):\n",
    "    x = np.linspace(x_start, x_end, num_points)\n",
    "    y = t_distribution_pdf(x, nu)  # You need to implement t_distribution_pdf\n",
    "    cdf = np.cumsum(y) * (x[1] - x[0])\n",
    "    target_half_prob = prob / 2\n",
    "    index = np.where(cdf >= target_half_prob)[0][0]\n",
    "    return x[index]\n",
    "\n",
    "#part d - find if t0 is within t*\n",
    "def is_within_interval(t0, t_star):\n",
    "    return -t_star <= t0 <= t_star\n",
    "\n",
    "\n",
    "#part e - apply to scenario\n",
    "mu_0 = 75  # National average\n",
    "sample_mean, sample_std_dev = compute_mean_std(data)\n",
    "n = len(data)\n",
    "t0 = compute_t0(sample_mean, mu_0, sample_std_dev, n)\n",
    "t_star = find_t_star(0.95, n - 1)  # Using 0.95 certainty for 95% confidence level\n",
    "is_within = is_within_t_star(t0, t_star)\n",
    "\n",
    "if is_within:\n",
    "    print(\"True. t0 is within the critical region. Fail to reject null hypothesis.\")\n",
    "else:\n",
    "    print(\"False. t0 is outside the critical region. Reject null hypotehesis.\")\n",
    "\n",
    "\n",
    "# Interpretation\n",
    "if t0 < 0:\n",
    "    print(\"The statistical evidence suggests that the new teaching technique is detrimental because t0 is negative and the sample mean is less than the population mean.\")\n",
    "else:\n",
    "    print(\"The statistical evidence suggests that the new teaching technique is beneficial because t0 is positive, which suggests that the sample mean is greater than the population mean (µ > µ0).\")"
   ]
  },
  {
   "cell_type": "code",
   "execution_count": null,
   "id": "b308f97a-1268-4523-8d35-7895cc8e0ef9",
   "metadata": {},
   "outputs": [],
   "source": []
  }
 ],
 "metadata": {
  "kernelspec": {
   "display_name": "Python 3 (ipykernel)",
   "language": "python",
   "name": "python3"
  },
  "language_info": {
   "codemirror_mode": {
    "name": "ipython",
    "version": 3
   },
   "file_extension": ".py",
   "mimetype": "text/x-python",
   "name": "python",
   "nbconvert_exporter": "python",
   "pygments_lexer": "ipython3",
   "version": "3.11.4"
  }
 },
 "nbformat": 4,
 "nbformat_minor": 5
}
