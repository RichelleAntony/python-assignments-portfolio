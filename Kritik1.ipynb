{
 "cells": [
  {
   "cell_type": "code",
   "execution_count": 122,
   "id": "f14f9158",
   "metadata": {},
   "outputs": [],
   "source": [
    "def code(x):                       \n",
    "    a= 0                                \n",
    "    n= 1  \n",
    "    error_bound= (x**(2*n+1))/(2*n+1)\n",
    "        \n",
    "    if 0 <= x <= 1:                         \n",
    "        while error_bound > 0.0001:\n",
    "            n+=1\n",
    "            error_bound = (x**(2*n+1))/(2*n+1)\n",
    "       \n",
    "        for i in range (0,n-1):\n",
    "            a+=((-1)**i*(x**(2*i+1)))/(2*i+1)\n",
    "     \n",
    "        return(a,n,error_bound)\n",
    "   \n",
    "    else:\n",
    "        print(\"Error!\")"
   ]
  },
  {
   "cell_type": "code",
   "execution_count": 110,
   "id": "a213b830",
   "metadata": {},
   "outputs": [
    {
     "name": "stdout",
     "output_type": "stream",
     "text": [
      "Error!\n"
     ]
    }
   ],
   "source": [
    "code(-1)"
   ]
  },
  {
   "cell_type": "code",
   "execution_count": 124,
   "id": "eb6b6798",
   "metadata": {},
   "outputs": [
    {
     "data": {
      "text/plain": [
       "(0, 1, 0.0)"
      ]
     },
     "execution_count": 124,
     "metadata": {},
     "output_type": "execute_result"
    }
   ],
   "source": [
    "code(0)"
   ]
  },
  {
   "cell_type": "code",
   "execution_count": 123,
   "id": "7a0f1ca6",
   "metadata": {},
   "outputs": [
    {
     "data": {
      "text/plain": [
       "(0.24479166666666666, 3, 8.719308035714285e-06)"
      ]
     },
     "execution_count": 123,
     "metadata": {},
     "output_type": "execute_result"
    }
   ],
   "source": [
    "code(0.25)"
   ]
  },
  {
   "cell_type": "code",
   "execution_count": 125,
   "id": "e0ce0b80",
   "metadata": {},
   "outputs": [
    {
     "data": {
      "text/plain": [
       "(0.46346726190476184, 5, 4.438920454545455e-05)"
      ]
     },
     "execution_count": 125,
     "metadata": {},
     "output_type": "execute_result"
    }
   ],
   "source": [
    "code(0.5)"
   ]
  },
  {
   "cell_type": "code",
   "execution_count": 126,
   "id": "1e4d8f4c",
   "metadata": {},
   "outputs": [
    {
     "data": {
      "text/plain": [
       "(0.6434262125251309, 11, 5.816761029294689e-05)"
      ]
     },
     "execution_count": 126,
     "metadata": {},
     "output_type": "execute_result"
    }
   ],
   "source": [
    "code(0.75)"
   ]
  },
  {
   "cell_type": "code",
   "execution_count": 127,
   "id": "195d62a3",
   "metadata": {},
   "outputs": [
    {
     "data": {
      "text/plain": [
       "(0.7854481733989479, 5000, 9.999000099990002e-05)"
      ]
     },
     "execution_count": 127,
     "metadata": {},
     "output_type": "execute_result"
    }
   ],
   "source": [
    "code(1)"
   ]
  }
 ],
 "metadata": {
  "kernelspec": {
   "display_name": "Python 3 (ipykernel)",
   "language": "python",
   "name": "python3"
  },
  "language_info": {
   "codemirror_mode": {
    "name": "ipython",
    "version": 3
   },
   "file_extension": ".py",
   "mimetype": "text/x-python",
   "name": "python",
   "nbconvert_exporter": "python",
   "pygments_lexer": "ipython3",
   "version": "3.11.4"
  }
 },
 "nbformat": 4,
 "nbformat_minor": 5
}
